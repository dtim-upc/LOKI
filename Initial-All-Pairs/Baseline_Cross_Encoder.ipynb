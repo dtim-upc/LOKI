{
  "nbformat": 4,
  "nbformat_minor": 0,
  "metadata": {
    "colab": {
      "provenance": [],
      "gpuType": "T4",
      "authorship_tag": "ABX9TyOd4AUII3gYzjOIcUMJh2Hd",
      "include_colab_link": true
    },
    "kernelspec": {
      "name": "python3",
      "display_name": "Python 3"
    },
    "language_info": {
      "name": "python"
    },
    "accelerator": "GPU",
    "widgets": {
      "application/vnd.jupyter.widget-state+json": {
        "386cac9c927345f5981af5bd784e40a6": {
          "model_module": "@jupyter-widgets/controls",
          "model_name": "HBoxModel",
          "model_module_version": "1.5.0",
          "state": {
            "_dom_classes": [],
            "_model_module": "@jupyter-widgets/controls",
            "_model_module_version": "1.5.0",
            "_model_name": "HBoxModel",
            "_view_count": null,
            "_view_module": "@jupyter-widgets/controls",
            "_view_module_version": "1.5.0",
            "_view_name": "HBoxView",
            "box_style": "",
            "children": [
              "IPY_MODEL_229b6f238ec0495abef4be75ea8b6258",
              "IPY_MODEL_a82abec6ae4a48a38c301baf249cb065",
              "IPY_MODEL_b77fcffa62e04e28b8a299ff58552bf0"
            ],
            "layout": "IPY_MODEL_e2b4594bd6e94e31be57373b9946e43c"
          }
        },
        "229b6f238ec0495abef4be75ea8b6258": {
          "model_module": "@jupyter-widgets/controls",
          "model_name": "HTMLModel",
          "model_module_version": "1.5.0",
          "state": {
            "_dom_classes": [],
            "_model_module": "@jupyter-widgets/controls",
            "_model_module_version": "1.5.0",
            "_model_name": "HTMLModel",
            "_view_count": null,
            "_view_module": "@jupyter-widgets/controls",
            "_view_module_version": "1.5.0",
            "_view_name": "HTMLView",
            "description": "",
            "description_tooltip": null,
            "layout": "IPY_MODEL_65999265159c44fe89df95facd256959",
            "placeholder": "​",
            "style": "IPY_MODEL_c7049fd7e1414ba19e434335c7de02e1",
            "value": "Scoring with Cross-Encoder: 100%"
          }
        },
        "a82abec6ae4a48a38c301baf249cb065": {
          "model_module": "@jupyter-widgets/controls",
          "model_name": "FloatProgressModel",
          "model_module_version": "1.5.0",
          "state": {
            "_dom_classes": [],
            "_model_module": "@jupyter-widgets/controls",
            "_model_module_version": "1.5.0",
            "_model_name": "FloatProgressModel",
            "_view_count": null,
            "_view_module": "@jupyter-widgets/controls",
            "_view_module_version": "1.5.0",
            "_view_name": "ProgressView",
            "bar_style": "success",
            "description": "",
            "description_tooltip": null,
            "layout": "IPY_MODEL_2f3254bdee3d47d88e9282a682084488",
            "max": 1,
            "min": 0,
            "orientation": "horizontal",
            "style": "IPY_MODEL_2b677c9ef83445a79ffb7867646da4f3",
            "value": 1
          }
        },
        "b77fcffa62e04e28b8a299ff58552bf0": {
          "model_module": "@jupyter-widgets/controls",
          "model_name": "HTMLModel",
          "model_module_version": "1.5.0",
          "state": {
            "_dom_classes": [],
            "_model_module": "@jupyter-widgets/controls",
            "_model_module_version": "1.5.0",
            "_model_name": "HTMLModel",
            "_view_count": null,
            "_view_module": "@jupyter-widgets/controls",
            "_view_module_version": "1.5.0",
            "_view_name": "HTMLView",
            "description": "",
            "description_tooltip": null,
            "layout": "IPY_MODEL_f818245ed7f84bc583b973bc63cbfaea",
            "placeholder": "​",
            "style": "IPY_MODEL_f4488305d030463083d16062478e6664",
            "value": " 1/1 [00:00&lt;00:00,  5.45it/s]"
          }
        },
        "e2b4594bd6e94e31be57373b9946e43c": {
          "model_module": "@jupyter-widgets/base",
          "model_name": "LayoutModel",
          "model_module_version": "1.2.0",
          "state": {
            "_model_module": "@jupyter-widgets/base",
            "_model_module_version": "1.2.0",
            "_model_name": "LayoutModel",
            "_view_count": null,
            "_view_module": "@jupyter-widgets/base",
            "_view_module_version": "1.2.0",
            "_view_name": "LayoutView",
            "align_content": null,
            "align_items": null,
            "align_self": null,
            "border": null,
            "bottom": null,
            "display": null,
            "flex": null,
            "flex_flow": null,
            "grid_area": null,
            "grid_auto_columns": null,
            "grid_auto_flow": null,
            "grid_auto_rows": null,
            "grid_column": null,
            "grid_gap": null,
            "grid_row": null,
            "grid_template_areas": null,
            "grid_template_columns": null,
            "grid_template_rows": null,
            "height": null,
            "justify_content": null,
            "justify_items": null,
            "left": null,
            "margin": null,
            "max_height": null,
            "max_width": null,
            "min_height": null,
            "min_width": null,
            "object_fit": null,
            "object_position": null,
            "order": null,
            "overflow": null,
            "overflow_x": null,
            "overflow_y": null,
            "padding": null,
            "right": null,
            "top": null,
            "visibility": null,
            "width": null
          }
        },
        "65999265159c44fe89df95facd256959": {
          "model_module": "@jupyter-widgets/base",
          "model_name": "LayoutModel",
          "model_module_version": "1.2.0",
          "state": {
            "_model_module": "@jupyter-widgets/base",
            "_model_module_version": "1.2.0",
            "_model_name": "LayoutModel",
            "_view_count": null,
            "_view_module": "@jupyter-widgets/base",
            "_view_module_version": "1.2.0",
            "_view_name": "LayoutView",
            "align_content": null,
            "align_items": null,
            "align_self": null,
            "border": null,
            "bottom": null,
            "display": null,
            "flex": null,
            "flex_flow": null,
            "grid_area": null,
            "grid_auto_columns": null,
            "grid_auto_flow": null,
            "grid_auto_rows": null,
            "grid_column": null,
            "grid_gap": null,
            "grid_row": null,
            "grid_template_areas": null,
            "grid_template_columns": null,
            "grid_template_rows": null,
            "height": null,
            "justify_content": null,
            "justify_items": null,
            "left": null,
            "margin": null,
            "max_height": null,
            "max_width": null,
            "min_height": null,
            "min_width": null,
            "object_fit": null,
            "object_position": null,
            "order": null,
            "overflow": null,
            "overflow_x": null,
            "overflow_y": null,
            "padding": null,
            "right": null,
            "top": null,
            "visibility": null,
            "width": null
          }
        },
        "c7049fd7e1414ba19e434335c7de02e1": {
          "model_module": "@jupyter-widgets/controls",
          "model_name": "DescriptionStyleModel",
          "model_module_version": "1.5.0",
          "state": {
            "_model_module": "@jupyter-widgets/controls",
            "_model_module_version": "1.5.0",
            "_model_name": "DescriptionStyleModel",
            "_view_count": null,
            "_view_module": "@jupyter-widgets/base",
            "_view_module_version": "1.2.0",
            "_view_name": "StyleView",
            "description_width": ""
          }
        },
        "2f3254bdee3d47d88e9282a682084488": {
          "model_module": "@jupyter-widgets/base",
          "model_name": "LayoutModel",
          "model_module_version": "1.2.0",
          "state": {
            "_model_module": "@jupyter-widgets/base",
            "_model_module_version": "1.2.0",
            "_model_name": "LayoutModel",
            "_view_count": null,
            "_view_module": "@jupyter-widgets/base",
            "_view_module_version": "1.2.0",
            "_view_name": "LayoutView",
            "align_content": null,
            "align_items": null,
            "align_self": null,
            "border": null,
            "bottom": null,
            "display": null,
            "flex": null,
            "flex_flow": null,
            "grid_area": null,
            "grid_auto_columns": null,
            "grid_auto_flow": null,
            "grid_auto_rows": null,
            "grid_column": null,
            "grid_gap": null,
            "grid_row": null,
            "grid_template_areas": null,
            "grid_template_columns": null,
            "grid_template_rows": null,
            "height": null,
            "justify_content": null,
            "justify_items": null,
            "left": null,
            "margin": null,
            "max_height": null,
            "max_width": null,
            "min_height": null,
            "min_width": null,
            "object_fit": null,
            "object_position": null,
            "order": null,
            "overflow": null,
            "overflow_x": null,
            "overflow_y": null,
            "padding": null,
            "right": null,
            "top": null,
            "visibility": null,
            "width": null
          }
        },
        "2b677c9ef83445a79ffb7867646da4f3": {
          "model_module": "@jupyter-widgets/controls",
          "model_name": "ProgressStyleModel",
          "model_module_version": "1.5.0",
          "state": {
            "_model_module": "@jupyter-widgets/controls",
            "_model_module_version": "1.5.0",
            "_model_name": "ProgressStyleModel",
            "_view_count": null,
            "_view_module": "@jupyter-widgets/base",
            "_view_module_version": "1.2.0",
            "_view_name": "StyleView",
            "bar_color": null,
            "description_width": ""
          }
        },
        "f818245ed7f84bc583b973bc63cbfaea": {
          "model_module": "@jupyter-widgets/base",
          "model_name": "LayoutModel",
          "model_module_version": "1.2.0",
          "state": {
            "_model_module": "@jupyter-widgets/base",
            "_model_module_version": "1.2.0",
            "_model_name": "LayoutModel",
            "_view_count": null,
            "_view_module": "@jupyter-widgets/base",
            "_view_module_version": "1.2.0",
            "_view_name": "LayoutView",
            "align_content": null,
            "align_items": null,
            "align_self": null,
            "border": null,
            "bottom": null,
            "display": null,
            "flex": null,
            "flex_flow": null,
            "grid_area": null,
            "grid_auto_columns": null,
            "grid_auto_flow": null,
            "grid_auto_rows": null,
            "grid_column": null,
            "grid_gap": null,
            "grid_row": null,
            "grid_template_areas": null,
            "grid_template_columns": null,
            "grid_template_rows": null,
            "height": null,
            "justify_content": null,
            "justify_items": null,
            "left": null,
            "margin": null,
            "max_height": null,
            "max_width": null,
            "min_height": null,
            "min_width": null,
            "object_fit": null,
            "object_position": null,
            "order": null,
            "overflow": null,
            "overflow_x": null,
            "overflow_y": null,
            "padding": null,
            "right": null,
            "top": null,
            "visibility": null,
            "width": null
          }
        },
        "f4488305d030463083d16062478e6664": {
          "model_module": "@jupyter-widgets/controls",
          "model_name": "DescriptionStyleModel",
          "model_module_version": "1.5.0",
          "state": {
            "_model_module": "@jupyter-widgets/controls",
            "_model_module_version": "1.5.0",
            "_model_name": "DescriptionStyleModel",
            "_view_count": null,
            "_view_module": "@jupyter-widgets/base",
            "_view_module_version": "1.2.0",
            "_view_name": "StyleView",
            "description_width": ""
          }
        }
      }
    }
  },
  "cells": [
    {
      "cell_type": "markdown",
      "metadata": {
        "id": "view-in-github",
        "colab_type": "text"
      },
      "source": [
        "<a href=\"https://colab.research.google.com/github/dtim-upc/LOKI/blob/main/Initial-All-Pairs/Baseline_Cross_Encoder.ipynb\" target=\"_parent\"><img src=\"https://colab.research.google.com/assets/colab-badge.svg\" alt=\"Open In Colab\"/></a>"
      ]
    },
    {
      "cell_type": "code",
      "execution_count": null,
      "metadata": {
        "id": "MJeZr8UGxbx1"
      },
      "outputs": [],
      "source": [
        "import os\n",
        "import json\n",
        "import numpy as np\n",
        "from sentence_transformers import CrossEncoder, SentenceTransformer, util\n",
        "from sklearn.metrics.pairwise import cosine_similarity\n",
        "import torch\n",
        "from tqdm.notebook import tqdm"
      ]
    },
    {
      "cell_type": "code",
      "source": [
        "# Define folder paths for input and output\n",
        "data_folder = \"/content/input_data\"\n",
        "output_folder = \"/content/output_data\""
      ],
      "metadata": {
        "id": "bi-qr6Faxn3u"
      },
      "execution_count": null,
      "outputs": []
    },
    {
      "cell_type": "code",
      "source": [
        "# Make output directory if it does not exist\n",
        "os.makedirs(output_folder, exist_ok=True)"
      ],
      "metadata": {
        "id": "aiYQuIpVybYM"
      },
      "execution_count": null,
      "outputs": []
    },
    {
      "cell_type": "code",
      "source": [
        "# Load models\n",
        "# cross_encoder_model_name = 'cross-encoder/stsb-distilroberta-base'\n",
        "cross_encoder_model_name = 'cross-encoder/stsb-distilroberta-base'\n",
        "cross_encoder = CrossEncoder(cross_encoder_model_name, device='cuda' if torch.cuda.is_available() else 'cpu')\n",
        "# bi_encoder = SentenceTransformer('all-MiniLM-L6-v2', device='cuda' if torch.cuda.is_available() else 'cpu')"
      ],
      "metadata": {
        "id": "YZ6Q98i7yfJC"
      },
      "execution_count": null,
      "outputs": []
    },
    {
      "cell_type": "code",
      "source": [
        "def load_data(file_path, num_samples=None):\n",
        "    \"\"\"Load data from a single json file.\"\"\"\n",
        "    with open(file_path, 'r', encoding='utf-8') as f:\n",
        "        data = json.load(f)\n",
        "    if num_samples is not None:\n",
        "        return data[:num_samples]\n",
        "    return data"
      ],
      "metadata": {
        "id": "9degsLC5ykap"
      },
      "execution_count": null,
      "outputs": []
    },
    {
      "cell_type": "code",
      "source": [
        "# Function to create row representation for table\n",
        "\n",
        "def create_row_representation(row, headers):\n",
        "    \"\"\"Create a string representation for each row by combining headers and their corresponding cell values.\"\"\"\n",
        "    # Report if any column header is empty\n",
        "    if any(header == '' for header in headers):\n",
        "        print(f\"Warning: Empty header found. Headers: {headers}\")\n",
        "    # Ensure the row and headers have the same length\n",
        "    if len(row) != len(headers):\n",
        "        row = row[:len(headers)] if len(row) > len(headers) else row + [''] * (len(headers) - len(row))\n",
        "    return ' '.join([f\"{headers[i]}: {cell}\" for i, cell in enumerate(row)])\n"
      ],
      "metadata": {
        "id": "-uVez91IyqNo"
      },
      "execution_count": null,
      "outputs": []
    },
    {
      "cell_type": "code",
      "source": [
        "# Function to prepare dataset\n",
        "\n",
        "def prepare_dataset(data):\n",
        "    \"\"\"Prepare row-sentence pairs from the dataset, considering all possible table-paragraph combinations.\"\"\"\n",
        "    dataset = []\n",
        "    failed_examples = []\n",
        "\n",
        "    for table_example_idx, table_example in enumerate(data):\n",
        "        table = table_example['table']\n",
        "        headers = table[0]\n",
        "        rows = table[1:]\n",
        "        if any(header == '' for header in headers):\n",
        "            failed_examples.append(headers)\n",
        "            print(f\"Warning: Empty header in example with headers: {headers}\")\n",
        "\n",
        "        for paragraph_example_idx, paragraph_example in enumerate(data):\n",
        "            paragraph = paragraph_example['sentence_context']\n",
        "            for row in rows:\n",
        "                row_text = create_row_representation(row, headers)\n",
        "                for sentence in paragraph:\n",
        "                    dataset.append((row_text, sentence))  # Pair rows with sentences from all examples\n",
        "\n",
        "    if failed_examples:\n",
        "        print(f\"Total examples with empty headers: {len(failed_examples)}\")\n",
        "    return dataset\n"
      ],
      "metadata": {
        "id": "LZxu2tyGytSa"
      },
      "execution_count": null,
      "outputs": []
    },
    {
      "cell_type": "code",
      "source": [
        "# Scoring function using cross-encoder\n",
        "\n",
        "def compute_similarity_cross_encoder(row_sentence_pairs):\n",
        "    \"\"\"Compute similarity scores using the cross-encoder model.\"\"\"\n",
        "    scores = []\n",
        "    batch_size = 16  # Set a batch size to better utilize GPU\n",
        "    for start_idx in tqdm(range(0, len(row_sentence_pairs), batch_size), desc=\"Scoring with Cross-Encoder\"):\n",
        "        batch_pairs = row_sentence_pairs[start_idx:start_idx + batch_size]\n",
        "        # Convert batch_scores to a list to ensure compatibility with JSON serialization\n",
        "        batch_scores = cross_encoder.predict(batch_pairs).tolist()\n",
        "        scores.extend(batch_scores)\n",
        "    return scores\n"
      ],
      "metadata": {
        "id": "h1cJo0fyywNP"
      },
      "execution_count": null,
      "outputs": []
    },
    {
      "cell_type": "code",
      "source": [
        "# Function to generate labeled dataset\n",
        "\n",
        "def generate_labeled_dataset(data):\n",
        "    \"\"\"Generate a labeled dataset with aggregated similarity scores for all table-paragraph pairs.\"\"\"\n",
        "    row_sentence_pairs = prepare_dataset(data)\n",
        "    similarity_scores = compute_similarity_cross_encoder(row_sentence_pairs)\n",
        "\n",
        "    # Group scores by table-paragraph pairs\n",
        "    labeled_data = []\n",
        "    index = 0\n",
        "    for table_example_idx, table_example in enumerate(data):\n",
        "        table = table_example['table']\n",
        "        num_rows = len(table[1:])  # Number of rows excluding headers\n",
        "\n",
        "        for paragraph_example_idx, paragraph_example in enumerate(data):\n",
        "            paragraph = paragraph_example['sentence_context']\n",
        "            num_sentences = len(paragraph)\n",
        "\n",
        "            # Collect all scores for the current table-paragraph pair\n",
        "            scores = []\n",
        "            for row_idx in range(num_rows):\n",
        "                for sentence_idx in range(num_sentences):\n",
        "                    scores.append(similarity_scores[index])\n",
        "                    index += 1\n",
        "\n",
        "            # Aggregate the scores for the current table-paragraph pair\n",
        "            avg_score = sum(scores) / len(scores) if scores else 0\n",
        "            labeled_data.append({\n",
        "                \"table\": table,  # Include full table\n",
        "                \"paragraph\": paragraph,  # Include full paragraph\n",
        "                \"score\": round(avg_score, 3)  # keep score between [0, 1] rounded to 3 decimals\n",
        "            })\n",
        "\n",
        "    return labeled_data"
      ],
      "metadata": {
        "id": "fjCT9VWAyyYS"
      },
      "execution_count": null,
      "outputs": []
    },
    {
      "cell_type": "code",
      "source": [
        "def save_labeled_dataset(labeled_data, output_path):\n",
        "    \"\"\"Save the labeled dataset to a json file.\"\"\"\n",
        "    with open(output_path, 'w', encoding='utf-8') as f:\n",
        "        json.dump(labeled_data, f, indent=4, ensure_ascii=False)"
      ],
      "metadata": {
        "id": "_FBVaYEWy2Gw"
      },
      "execution_count": null,
      "outputs": []
    },
    {
      "cell_type": "code",
      "source": [
        "# Run the main pipeline in a notebook\n",
        "if __name__ == \"__main__\":\n",
        "    # Load data from input folder\n",
        "    data_file_path = os.path.join(data_folder, 'data.json')\n",
        "    data = load_data(data_file_path)\n",
        "\n",
        "    # Generate labeled dataset\n",
        "    labeled_data = generate_labeled_dataset(data)\n",
        "    # Verify that all table-paragraph pairs are included in the labeled data\n",
        "    expected_pairs = len(data) * len(data)\n",
        "    if len(labeled_data) != expected_pairs:\n",
        "        print(f\"Warning: Mismatch in number of labeled entries ({len(labeled_data)}) and expected table-paragraph pairs ({expected_pairs})\")\n",
        "\n",
        "    # Save output dataset\n",
        "    output_path = os.path.join(output_folder, 'labeled_dataset.json')\n",
        "    save_labeled_dataset(labeled_data, output_path)\n",
        "    print(f\"Labeled dataset saved to {output_path}\")"
      ],
      "metadata": {
        "colab": {
          "base_uri": "https://localhost:8080/",
          "height": 66,
          "referenced_widgets": [
            "386cac9c927345f5981af5bd784e40a6",
            "229b6f238ec0495abef4be75ea8b6258",
            "a82abec6ae4a48a38c301baf249cb065",
            "b77fcffa62e04e28b8a299ff58552bf0",
            "e2b4594bd6e94e31be57373b9946e43c",
            "65999265159c44fe89df95facd256959",
            "c7049fd7e1414ba19e434335c7de02e1",
            "2f3254bdee3d47d88e9282a682084488",
            "2b677c9ef83445a79ffb7867646da4f3",
            "f818245ed7f84bc583b973bc63cbfaea",
            "f4488305d030463083d16062478e6664"
          ]
        },
        "id": "S62KJ-eAy2uX",
        "outputId": "82dff259-9e12-4ab1-aec0-ce9cf10d0be2"
      },
      "execution_count": null,
      "outputs": [
        {
          "output_type": "display_data",
          "data": {
            "text/plain": [
              "Scoring with Cross-Encoder:   0%|          | 0/1 [00:00<?, ?it/s]"
            ],
            "application/vnd.jupyter.widget-view+json": {
              "version_major": 2,
              "version_minor": 0,
              "model_id": "386cac9c927345f5981af5bd784e40a6"
            }
          },
          "metadata": {}
        },
        {
          "output_type": "stream",
          "name": "stdout",
          "text": [
            "Labeled dataset saved to /content/output_data/labeled_dataset.json\n"
          ]
        }
      ]
    }
  ]
}