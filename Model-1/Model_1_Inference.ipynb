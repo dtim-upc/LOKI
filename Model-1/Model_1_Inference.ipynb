{
  "nbformat": 4,
  "nbformat_minor": 0,
  "metadata": {
    "colab": {
      "provenance": [],
      "gpuType": "T4",
      "authorship_tag": "ABX9TyORhVgAFwsJfoFaJ4QVCvoP",
      "include_colab_link": true
    },
    "kernelspec": {
      "name": "python3",
      "display_name": "Python 3"
    },
    "language_info": {
      "name": "python"
    },
    "accelerator": "GPU",
    "widgets": {
      "application/vnd.jupyter.widget-state+json": {
        "afa5dca11db84a59b8519401584ae0ee": {
          "model_module": "@jupyter-widgets/controls",
          "model_name": "HBoxModel",
          "model_module_version": "1.5.0",
          "state": {
            "_dom_classes": [],
            "_model_module": "@jupyter-widgets/controls",
            "_model_module_version": "1.5.0",
            "_model_name": "HBoxModel",
            "_view_count": null,
            "_view_module": "@jupyter-widgets/controls",
            "_view_module_version": "1.5.0",
            "_view_name": "HBoxView",
            "box_style": "",
            "children": [
              "IPY_MODEL_011fc104575f4dba95501c70aff071cc",
              "IPY_MODEL_fd7195d3d5294187a0992d8479b00efa",
              "IPY_MODEL_59581dc6902244708ccd6250d18efedc"
            ],
            "layout": "IPY_MODEL_29c6599adc4e4cf3881c07544410c4f1"
          }
        },
        "011fc104575f4dba95501c70aff071cc": {
          "model_module": "@jupyter-widgets/controls",
          "model_name": "HTMLModel",
          "model_module_version": "1.5.0",
          "state": {
            "_dom_classes": [],
            "_model_module": "@jupyter-widgets/controls",
            "_model_module_version": "1.5.0",
            "_model_name": "HTMLModel",
            "_view_count": null,
            "_view_module": "@jupyter-widgets/controls",
            "_view_module_version": "1.5.0",
            "_view_name": "HTMLView",
            "description": "",
            "description_tooltip": null,
            "layout": "IPY_MODEL_aefec222b93e44a2b0289f7fd93ce5c2",
            "placeholder": "​",
            "style": "IPY_MODEL_0315b150ae60419dbdf1a72b4a6f3b8b",
            "value": "Processing positive: 100%"
          }
        },
        "fd7195d3d5294187a0992d8479b00efa": {
          "model_module": "@jupyter-widgets/controls",
          "model_name": "FloatProgressModel",
          "model_module_version": "1.5.0",
          "state": {
            "_dom_classes": [],
            "_model_module": "@jupyter-widgets/controls",
            "_model_module_version": "1.5.0",
            "_model_name": "FloatProgressModel",
            "_view_count": null,
            "_view_module": "@jupyter-widgets/controls",
            "_view_module_version": "1.5.0",
            "_view_name": "ProgressView",
            "bar_style": "success",
            "description": "",
            "description_tooltip": null,
            "layout": "IPY_MODEL_496abf9356d4451fa75e05464cc489e0",
            "max": 4585,
            "min": 0,
            "orientation": "horizontal",
            "style": "IPY_MODEL_b2f7a9af621a48fda15c777fb490c74d",
            "value": 4585
          }
        },
        "59581dc6902244708ccd6250d18efedc": {
          "model_module": "@jupyter-widgets/controls",
          "model_name": "HTMLModel",
          "model_module_version": "1.5.0",
          "state": {
            "_dom_classes": [],
            "_model_module": "@jupyter-widgets/controls",
            "_model_module_version": "1.5.0",
            "_model_name": "HTMLModel",
            "_view_count": null,
            "_view_module": "@jupyter-widgets/controls",
            "_view_module_version": "1.5.0",
            "_view_name": "HTMLView",
            "description": "",
            "description_tooltip": null,
            "layout": "IPY_MODEL_6c49720eab5c4ec1aef558e23ff14bde",
            "placeholder": "​",
            "style": "IPY_MODEL_5aa9e7758aa64e398bbc7cd59321380e",
            "value": " 4585/4585 [04:07&lt;00:00, 20.65it/s]"
          }
        },
        "29c6599adc4e4cf3881c07544410c4f1": {
          "model_module": "@jupyter-widgets/base",
          "model_name": "LayoutModel",
          "model_module_version": "1.2.0",
          "state": {
            "_model_module": "@jupyter-widgets/base",
            "_model_module_version": "1.2.0",
            "_model_name": "LayoutModel",
            "_view_count": null,
            "_view_module": "@jupyter-widgets/base",
            "_view_module_version": "1.2.0",
            "_view_name": "LayoutView",
            "align_content": null,
            "align_items": null,
            "align_self": null,
            "border": null,
            "bottom": null,
            "display": null,
            "flex": null,
            "flex_flow": null,
            "grid_area": null,
            "grid_auto_columns": null,
            "grid_auto_flow": null,
            "grid_auto_rows": null,
            "grid_column": null,
            "grid_gap": null,
            "grid_row": null,
            "grid_template_areas": null,
            "grid_template_columns": null,
            "grid_template_rows": null,
            "height": null,
            "justify_content": null,
            "justify_items": null,
            "left": null,
            "margin": null,
            "max_height": null,
            "max_width": null,
            "min_height": null,
            "min_width": null,
            "object_fit": null,
            "object_position": null,
            "order": null,
            "overflow": null,
            "overflow_x": null,
            "overflow_y": null,
            "padding": null,
            "right": null,
            "top": null,
            "visibility": null,
            "width": null
          }
        },
        "aefec222b93e44a2b0289f7fd93ce5c2": {
          "model_module": "@jupyter-widgets/base",
          "model_name": "LayoutModel",
          "model_module_version": "1.2.0",
          "state": {
            "_model_module": "@jupyter-widgets/base",
            "_model_module_version": "1.2.0",
            "_model_name": "LayoutModel",
            "_view_count": null,
            "_view_module": "@jupyter-widgets/base",
            "_view_module_version": "1.2.0",
            "_view_name": "LayoutView",
            "align_content": null,
            "align_items": null,
            "align_self": null,
            "border": null,
            "bottom": null,
            "display": null,
            "flex": null,
            "flex_flow": null,
            "grid_area": null,
            "grid_auto_columns": null,
            "grid_auto_flow": null,
            "grid_auto_rows": null,
            "grid_column": null,
            "grid_gap": null,
            "grid_row": null,
            "grid_template_areas": null,
            "grid_template_columns": null,
            "grid_template_rows": null,
            "height": null,
            "justify_content": null,
            "justify_items": null,
            "left": null,
            "margin": null,
            "max_height": null,
            "max_width": null,
            "min_height": null,
            "min_width": null,
            "object_fit": null,
            "object_position": null,
            "order": null,
            "overflow": null,
            "overflow_x": null,
            "overflow_y": null,
            "padding": null,
            "right": null,
            "top": null,
            "visibility": null,
            "width": null
          }
        },
        "0315b150ae60419dbdf1a72b4a6f3b8b": {
          "model_module": "@jupyter-widgets/controls",
          "model_name": "DescriptionStyleModel",
          "model_module_version": "1.5.0",
          "state": {
            "_model_module": "@jupyter-widgets/controls",
            "_model_module_version": "1.5.0",
            "_model_name": "DescriptionStyleModel",
            "_view_count": null,
            "_view_module": "@jupyter-widgets/base",
            "_view_module_version": "1.2.0",
            "_view_name": "StyleView",
            "description_width": ""
          }
        },
        "496abf9356d4451fa75e05464cc489e0": {
          "model_module": "@jupyter-widgets/base",
          "model_name": "LayoutModel",
          "model_module_version": "1.2.0",
          "state": {
            "_model_module": "@jupyter-widgets/base",
            "_model_module_version": "1.2.0",
            "_model_name": "LayoutModel",
            "_view_count": null,
            "_view_module": "@jupyter-widgets/base",
            "_view_module_version": "1.2.0",
            "_view_name": "LayoutView",
            "align_content": null,
            "align_items": null,
            "align_self": null,
            "border": null,
            "bottom": null,
            "display": null,
            "flex": null,
            "flex_flow": null,
            "grid_area": null,
            "grid_auto_columns": null,
            "grid_auto_flow": null,
            "grid_auto_rows": null,
            "grid_column": null,
            "grid_gap": null,
            "grid_row": null,
            "grid_template_areas": null,
            "grid_template_columns": null,
            "grid_template_rows": null,
            "height": null,
            "justify_content": null,
            "justify_items": null,
            "left": null,
            "margin": null,
            "max_height": null,
            "max_width": null,
            "min_height": null,
            "min_width": null,
            "object_fit": null,
            "object_position": null,
            "order": null,
            "overflow": null,
            "overflow_x": null,
            "overflow_y": null,
            "padding": null,
            "right": null,
            "top": null,
            "visibility": null,
            "width": null
          }
        },
        "b2f7a9af621a48fda15c777fb490c74d": {
          "model_module": "@jupyter-widgets/controls",
          "model_name": "ProgressStyleModel",
          "model_module_version": "1.5.0",
          "state": {
            "_model_module": "@jupyter-widgets/controls",
            "_model_module_version": "1.5.0",
            "_model_name": "ProgressStyleModel",
            "_view_count": null,
            "_view_module": "@jupyter-widgets/base",
            "_view_module_version": "1.2.0",
            "_view_name": "StyleView",
            "bar_color": null,
            "description_width": ""
          }
        },
        "6c49720eab5c4ec1aef558e23ff14bde": {
          "model_module": "@jupyter-widgets/base",
          "model_name": "LayoutModel",
          "model_module_version": "1.2.0",
          "state": {
            "_model_module": "@jupyter-widgets/base",
            "_model_module_version": "1.2.0",
            "_model_name": "LayoutModel",
            "_view_count": null,
            "_view_module": "@jupyter-widgets/base",
            "_view_module_version": "1.2.0",
            "_view_name": "LayoutView",
            "align_content": null,
            "align_items": null,
            "align_self": null,
            "border": null,
            "bottom": null,
            "display": null,
            "flex": null,
            "flex_flow": null,
            "grid_area": null,
            "grid_auto_columns": null,
            "grid_auto_flow": null,
            "grid_auto_rows": null,
            "grid_column": null,
            "grid_gap": null,
            "grid_row": null,
            "grid_template_areas": null,
            "grid_template_columns": null,
            "grid_template_rows": null,
            "height": null,
            "justify_content": null,
            "justify_items": null,
            "left": null,
            "margin": null,
            "max_height": null,
            "max_width": null,
            "min_height": null,
            "min_width": null,
            "object_fit": null,
            "object_position": null,
            "order": null,
            "overflow": null,
            "overflow_x": null,
            "overflow_y": null,
            "padding": null,
            "right": null,
            "top": null,
            "visibility": null,
            "width": null
          }
        },
        "5aa9e7758aa64e398bbc7cd59321380e": {
          "model_module": "@jupyter-widgets/controls",
          "model_name": "DescriptionStyleModel",
          "model_module_version": "1.5.0",
          "state": {
            "_model_module": "@jupyter-widgets/controls",
            "_model_module_version": "1.5.0",
            "_model_name": "DescriptionStyleModel",
            "_view_count": null,
            "_view_module": "@jupyter-widgets/base",
            "_view_module_version": "1.2.0",
            "_view_name": "StyleView",
            "description_width": ""
          }
        }
      }
    }
  },
  "cells": [
    {
      "cell_type": "markdown",
      "metadata": {
        "id": "view-in-github",
        "colab_type": "text"
      },
      "source": [
        "<a href=\"https://colab.research.google.com/github/dtim-upc/LOKI/blob/main/Model-1/Model_1_Inference.ipynb\" target=\"_parent\"><img src=\"https://colab.research.google.com/assets/colab-badge.svg\" alt=\"Open In Colab\"/></a>"
      ]
    },
    {
      "cell_type": "code",
      "execution_count": 2,
      "metadata": {
        "id": "G4kPRwuNein7"
      },
      "outputs": [],
      "source": [
        "# Import libraries\n",
        "import os\n",
        "import json\n",
        "import numpy as np\n",
        "from sentence_transformers import SentenceTransformer, SimilarityFunction, util\n",
        "import torch\n",
        "from tqdm.notebook import tqdm"
      ]
    },
    {
      "cell_type": "code",
      "source": [
        "# Define folder paths (Update with your file paths)\n",
        "input_folder = \"/content/\"\n",
        "output_folder = \"/content/output/\"\n",
        "positive_pairs_path = os.path.join(input_folder, \"positive_group.json\")\n",
        "hard_negative_pairs_path = os.path.join(input_folder, \"hard_negative_group.json\")\n",
        "extreme_negative_pairs_path = os.path.join(input_folder, \"extreme_negative_group.json\")\n",
        "full_data_path = os.path.join(input_folder, \"formatted_data_cleaned.json\")\n",
        "\n",
        "# Create output directory if it doesn't exist\n",
        "os.makedirs(output_folder, exist_ok=True)"
      ],
      "metadata": {
        "id": "JMeaxGc3etYW"
      },
      "execution_count": 3,
      "outputs": []
    },
    {
      "cell_type": "code",
      "source": [
        "# Load bi-encoder model\n",
        "device = \"cuda\" if torch.cuda.is_available() else \"cpu\"\n",
        "bi_encoder = SentenceTransformer(\"all-mpnet-base-v2\", similarity_fn_name=SimilarityFunction.DOT_PRODUCT, device=device)\n",
        "print(\"Model loaded successfully\")"
      ],
      "metadata": {
        "colab": {
          "base_uri": "https://localhost:8080/"
        },
        "id": "U50qDf4Sevsy",
        "outputId": "efda1382-9167-45bd-9c52-efeee7b9a4cf"
      },
      "execution_count": 4,
      "outputs": [
        {
          "output_type": "stream",
          "name": "stdout",
          "text": [
            "Model loaded successfully\n"
          ]
        }
      ]
    },
    {
      "cell_type": "code",
      "source": [
        "# Load data files\n",
        "print(\"Loading Original Data...\")\n",
        "with open(full_data_path, 'r', encoding='utf-8') as f:\n",
        "    full_data = json.load(f)\n",
        "\n",
        "# Create a dictionary for fast lookup by ID\n",
        "data_by_id = {entry[\"id\"]: entry for entry in full_data}\n",
        "print(\"Data loaded and dictionary created successfully\")"
      ],
      "metadata": {
        "colab": {
          "base_uri": "https://localhost:8080/"
        },
        "id": "HuBCu3-GezLJ",
        "outputId": "74d3b3a7-3703-4271-815c-5f91c8a48823"
      },
      "execution_count": 5,
      "outputs": [
        {
          "output_type": "stream",
          "name": "stdout",
          "text": [
            "Loading Original Data...\n",
            "Data loaded and dictionary created successfully\n"
          ]
        }
      ]
    },
    {
      "cell_type": "code",
      "source": [
        "# Load pairs for each subset\n",
        "print(\"Loading Contrastive Subsets...\")\n",
        "with open(positive_pairs_path, 'r', encoding='utf-8') as f:\n",
        "    positive_pairs = json.load(f)\n",
        "with open(hard_negative_pairs_path, 'r', encoding='utf-8') as f:\n",
        "    hard_negative_pairs = json.load(f)\n",
        "with open(extreme_negative_pairs_path, 'r', encoding='utf-8') as f:\n",
        "    extreme_negative_pairs = json.load(f)"
      ],
      "metadata": {
        "colab": {
          "base_uri": "https://localhost:8080/"
        },
        "id": "cPO8mMIg_7sf",
        "outputId": "073e52d8-bf01-4853-c9c5-5756fcf897db"
      },
      "execution_count": 6,
      "outputs": [
        {
          "output_type": "stream",
          "name": "stdout",
          "text": [
            "Loading Contrastive Subsets...\n"
          ]
        }
      ]
    },
    {
      "cell_type": "code",
      "source": [
        "def create_row_representation(row, headers, title=None, caption=None):\n",
        "    \"\"\"Create a string representation for each row by combining headers and their corresponding cell values.\"\"\"\n",
        "    if not headers or len(headers) == 0:  # Handle missing or empty headers\n",
        "        headers = [f\"Column {i+1}\" for i in range(len(row))]  # Generate generic column names\n",
        "\n",
        "    if len(row) != len(headers):  # Ensure rows and headers align\n",
        "        row = row[:len(headers)] if len(row) > len(headers) else row + [''] * (len(headers) - len(row))\n",
        "\n",
        "    row_representation = ' '.join([f\"{headers[i]}: {cell}\" for i, cell in enumerate(row)])\n",
        "    if caption:\n",
        "        row_representation = f\"Caption: {caption} \" + row_representation\n",
        "    if title:\n",
        "        row_representation = f\"Title: {title} \" + row_representation\n",
        "    return row_representation"
      ],
      "metadata": {
        "id": "5h2LXNHVe8vk"
      },
      "execution_count": 7,
      "outputs": []
    },
    {
      "cell_type": "code",
      "source": [
        "def save_results_to_json(results, subset_name):\n",
        "    \"\"\"Save results to a JSON file.\"\"\"\n",
        "    output_path = os.path.join(output_folder, f\"{subset_name}_dot_product.json\")\n",
        "    with open(output_path, 'w', encoding='utf-8') as f:\n",
        "        json.dump(results, f, indent=4, ensure_ascii=False)\n",
        "    print(f\"Dot product similarity for {subset_name} saved to: {output_path}\")"
      ],
      "metadata": {
        "id": "-zJvSy9fAOSc"
      },
      "execution_count": 8,
      "outputs": []
    },
    {
      "cell_type": "code",
      "source": [
        "def visualize_first_pair(results, subset_name, pairs):\n",
        "    \"\"\"Visualize the results for the first row and paragraph in a subset.\"\"\"\n",
        "    print(f\"\\n--- Visualizing the First Result ({subset_name}) ---\")\n",
        "    first_pair = pairs[0]\n",
        "    table_id = first_pair[\"table\"]\n",
        "    paragraph_id = first_pair[\"paragraph\"]\n",
        "\n",
        "    # Retrieve the table and paragraph data\n",
        "    table_entry = data_by_id[table_id]\n",
        "    paragraph_entry = data_by_id[paragraph_id]\n",
        "    headers = table_entry[\"table\"][0] if len(table_entry[\"table\"]) > 1 else None\n",
        "    row = table_entry[\"table\"][1] if len(table_entry[\"table\"]) > 1 else table_entry[\"table\"][0]  # First row\n",
        "    sentences = paragraph_entry[\"sentence_context\"]\n",
        "\n",
        "    # Display the table row representation\n",
        "    row_representation = create_row_representation(row, headers, table_entry.get(\"table_title\"), table_entry.get(\"caption\"))\n",
        "    print(f\"Row Representation:\\n{row_representation}\\n\")\n",
        "    print(\"Paragraph Sentences:\")\n",
        "    for idx, sentence in enumerate(sentences):\n",
        "        print(f\"Sentence {idx+1}: {sentence}\")\n",
        "\n",
        "    # Display similarity scores\n",
        "    similarity_matrix = results[f\"table_{table_id}_paragraph_{paragraph_id}\"]\n",
        "    print(\"\\nSimilarity Scores:\")\n",
        "    for idx, score in enumerate(similarity_matrix[0]):  # First row's similarities\n",
        "        print(f\"Row -> Sentence {idx+1}: {score:.4f}\")\n"
      ],
      "metadata": {
        "id": "xXso4U1S3tFh"
      },
      "execution_count": 9,
      "outputs": []
    },
    {
      "cell_type": "code",
      "source": [
        "def compute_dot_product_for_subset(subset_name, pairs):\n",
        "    \"\"\"Compute dot product similarity for a given subset and return results.\"\"\"\n",
        "    print(f\"\\nProcessing subset: {subset_name}\")\n",
        "    dot_product_results = {}\n",
        "\n",
        "    for pair in tqdm(pairs, desc=f\"Processing {subset_name}\"):\n",
        "        table_id = pair[\"table\"]\n",
        "        paragraph_id = pair[\"paragraph\"]\n",
        "        table_entry = data_by_id[table_id]\n",
        "        paragraph_entry = data_by_id[paragraph_id]\n",
        "\n",
        "        table = table_entry[\"table\"]\n",
        "        title = table_entry.get(\"table_title\", None)\n",
        "        caption = table_entry.get(\"caption\", None)\n",
        "        sentences = paragraph_entry[\"sentence_context\"]\n",
        "\n",
        "        # Check for headers and rows\n",
        "        headers = table[0] if len(table) > 1 else None  # Set headers if available\n",
        "        rows = table[1:] if len(table) > 1 else table   # Treat the entire table as rows if no headers\n",
        "\n",
        "        # Prepare row texts\n",
        "        row_texts = [create_row_representation(row, headers, title, caption) for row in rows]\n",
        "        row_texts = [text for text in row_texts if text.strip()]  # Remove empty strings\n",
        "        sentences = [sentence for sentence in sentences if sentence.strip()]  # Remove empty sentences\n",
        "\n",
        "        # Skip if either rows or sentences are empty\n",
        "        if not row_texts or not sentences:\n",
        "            print(f\"Skipping table {table_id} or paragraph {paragraph_id} due to empty content.\")\n",
        "            continue\n",
        "\n",
        "        # Compute embeddings\n",
        "        row_embeddings = bi_encoder.encode(row_texts, convert_to_tensor=True, device=device)\n",
        "        sentence_embeddings = bi_encoder.encode(sentences, convert_to_tensor=True, device=device)\n",
        "\n",
        "        # Ensure tensors are on the same device\n",
        "        row_embeddings = row_embeddings.to(device)\n",
        "        sentence_embeddings = sentence_embeddings.to(device)\n",
        "\n",
        "        # Dot product similarity\n",
        "        dot_product_matrix = util.dot_score(row_embeddings, sentence_embeddings).cpu().numpy()\n",
        "        dot_product_results[f\"table_{table_id}_paragraph_{paragraph_id}\"] = dot_product_matrix.tolist()\n",
        "    return dot_product_results\n"
      ],
      "metadata": {
        "id": "EbwV_R3mfAY0"
      },
      "execution_count": 10,
      "outputs": []
    },
    {
      "cell_type": "code",
      "source": [
        "# Step 1: Process subsets and save results\n",
        "positive_results = compute_dot_product_for_subset(\"positive\", positive_pairs)\n",
        "save_results_to_json(positive_results, \"positive\")\n",
        "\n",
        "# hard_negative_results = compute_dot_product_for_subset(\"hard_negative\", hard_negative_pairs)\n",
        "# save_results_to_json(hard_negative_results, \"hard_negative\")\n",
        "\n",
        "# extreme_negative_results = compute_dot_product_for_subset(\"extreme_negative\", extreme_negative_pairs)\n",
        "# save_results_to_json(extreme_negative_results, \"extreme_negative\")"
      ],
      "metadata": {
        "colab": {
          "base_uri": "https://localhost:8080/",
          "height": 102,
          "referenced_widgets": [
            "afa5dca11db84a59b8519401584ae0ee",
            "011fc104575f4dba95501c70aff071cc",
            "fd7195d3d5294187a0992d8479b00efa",
            "59581dc6902244708ccd6250d18efedc",
            "29c6599adc4e4cf3881c07544410c4f1",
            "aefec222b93e44a2b0289f7fd93ce5c2",
            "0315b150ae60419dbdf1a72b4a6f3b8b",
            "496abf9356d4451fa75e05464cc489e0",
            "b2f7a9af621a48fda15c777fb490c74d",
            "6c49720eab5c4ec1aef558e23ff14bde",
            "5aa9e7758aa64e398bbc7cd59321380e"
          ]
        },
        "id": "TKrIjURxfCfJ",
        "outputId": "b7bafec5-df95-4079-e2f1-2d6df1b584d1"
      },
      "execution_count": 11,
      "outputs": [
        {
          "output_type": "stream",
          "name": "stdout",
          "text": [
            "\n",
            "Processing subset: positive\n"
          ]
        },
        {
          "output_type": "display_data",
          "data": {
            "text/plain": [
              "Processing positive:   0%|          | 0/4585 [00:00<?, ?it/s]"
            ],
            "application/vnd.jupyter.widget-view+json": {
              "version_major": 2,
              "version_minor": 0,
              "model_id": "afa5dca11db84a59b8519401584ae0ee"
            }
          },
          "metadata": {}
        },
        {
          "output_type": "stream",
          "name": "stdout",
          "text": [
            "Dot product similarity for positive saved to: /content/output/positive_dot_product.json\n"
          ]
        }
      ]
    },
    {
      "cell_type": "code",
      "source": [
        "# Step 2: Visualize Results for the First Pair\n",
        "visualize_first_pair(positive_results, \"positive\", positive_pairs)"
      ],
      "metadata": {
        "colab": {
          "base_uri": "https://localhost:8080/"
        },
        "id": "wtmT54cm33F2",
        "outputId": "c6567f46-9d7c-4894-82f3-18c074b798fa"
      },
      "execution_count": 12,
      "outputs": [
        {
          "output_type": "stream",
          "name": "stdout",
          "text": [
            "\n",
            "--- Visualizing the First Result (positive) ---\n",
            "Row Representation:\n",
            "Title: Zeina Mina Caption: Heat 4 Rank: 1. Athlete: Valerie Brisco-Hooks (USA) Time: 51.42\n",
            "\n",
            "Paragraph Sentences:\n",
            "Sentence 1: Carlon Blackman (1): She competed in the women's 400 metres at the 1984 Summer Olympics in Los Angeles, finishing in sixth place in her first-round heat, with a time of 54.26.\n",
            "Sentence 2: Carlon Blackman (2): Carlon Blackman (born 27 March 1965) is a Barbadian sprinter.\n",
            "Sentence 3: Zeina Mina (1): Zeina Mina (Arabic: ; born January 1, 1963) is a Lebanese Olympic athlete.\n",
            "Sentence 4: Zeina Mina (2): Athletics Women's 400 metres Round One\n",
            "Sentence 5: Athletics at the 1984 Summer Olympics (1): At the 1984 Summer Olympics in Los Angeles, 41 events in athletics were contested.\n",
            "\n",
            "Similarity Scores:\n",
            "Row -> Sentence 1: 0.5005\n",
            "Row -> Sentence 2: 0.2170\n",
            "Row -> Sentence 3: 0.5300\n",
            "Row -> Sentence 4: 0.7262\n",
            "Row -> Sentence 5: 0.3266\n"
          ]
        }
      ]
    }
  ]
}