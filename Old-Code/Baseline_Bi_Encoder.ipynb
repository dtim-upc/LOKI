{
  "nbformat": 4,
  "nbformat_minor": 0,
  "metadata": {
    "colab": {
      "provenance": [],
      "gpuType": "T4",
      "authorship_tag": "ABX9TyP+2PCTPnijfPgBLLLeeMUe",
      "include_colab_link": true
    },
    "kernelspec": {
      "name": "python3",
      "display_name": "Python 3"
    },
    "language_info": {
      "name": "python"
    },
    "accelerator": "GPU",
    "widgets": {
      "application/vnd.jupyter.widget-state+json": {
        "58e2ff5fa9e747799ca97c56da65c3de": {
          "model_module": "@jupyter-widgets/controls",
          "model_name": "HBoxModel",
          "model_module_version": "1.5.0",
          "state": {
            "_dom_classes": [],
            "_model_module": "@jupyter-widgets/controls",
            "_model_module_version": "1.5.0",
            "_model_name": "HBoxModel",
            "_view_count": null,
            "_view_module": "@jupyter-widgets/controls",
            "_view_module_version": "1.5.0",
            "_view_name": "HBoxView",
            "box_style": "",
            "children": [
              "IPY_MODEL_1ad4bfa5133c4736a5d9f517e1c38377",
              "IPY_MODEL_a0c1b52cd14d4dc88768d3cca04cb0fa",
              "IPY_MODEL_9935a09466084fd1bddbe30f4d0a8806"
            ],
            "layout": "IPY_MODEL_33abb45af7d74c79928ec038a44d6f76"
          }
        },
        "1ad4bfa5133c4736a5d9f517e1c38377": {
          "model_module": "@jupyter-widgets/controls",
          "model_name": "HTMLModel",
          "model_module_version": "1.5.0",
          "state": {
            "_dom_classes": [],
            "_model_module": "@jupyter-widgets/controls",
            "_model_module_version": "1.5.0",
            "_model_name": "HTMLModel",
            "_view_count": null,
            "_view_module": "@jupyter-widgets/controls",
            "_view_module_version": "1.5.0",
            "_view_name": "HTMLView",
            "description": "",
            "description_tooltip": null,
            "layout": "IPY_MODEL_0c445ed7c30d4b4d838e18376898ad4a",
            "placeholder": "​",
            "style": "IPY_MODEL_119b6ea8e9194e5c8aa7cb69829adb84",
            "value": "Processing tables: 100%"
          }
        },
        "a0c1b52cd14d4dc88768d3cca04cb0fa": {
          "model_module": "@jupyter-widgets/controls",
          "model_name": "FloatProgressModel",
          "model_module_version": "1.5.0",
          "state": {
            "_dom_classes": [],
            "_model_module": "@jupyter-widgets/controls",
            "_model_module_version": "1.5.0",
            "_model_name": "FloatProgressModel",
            "_view_count": null,
            "_view_module": "@jupyter-widgets/controls",
            "_view_module_version": "1.5.0",
            "_view_name": "ProgressView",
            "bar_style": "success",
            "description": "",
            "description_tooltip": null,
            "layout": "IPY_MODEL_18ea1ffb41d545fea741fdaf944d5887",
            "max": 3,
            "min": 0,
            "orientation": "horizontal",
            "style": "IPY_MODEL_dc64c558ec784211934e12783254eafd",
            "value": 3
          }
        },
        "9935a09466084fd1bddbe30f4d0a8806": {
          "model_module": "@jupyter-widgets/controls",
          "model_name": "HTMLModel",
          "model_module_version": "1.5.0",
          "state": {
            "_dom_classes": [],
            "_model_module": "@jupyter-widgets/controls",
            "_model_module_version": "1.5.0",
            "_model_name": "HTMLModel",
            "_view_count": null,
            "_view_module": "@jupyter-widgets/controls",
            "_view_module_version": "1.5.0",
            "_view_name": "HTMLView",
            "description": "",
            "description_tooltip": null,
            "layout": "IPY_MODEL_dd72f992ffe34b34a9a30db4e552b5d3",
            "placeholder": "​",
            "style": "IPY_MODEL_97707622ea404402926ab8eee770ce65",
            "value": " 3/3 [00:00&lt;00:00, 141.33it/s]"
          }
        },
        "33abb45af7d74c79928ec038a44d6f76": {
          "model_module": "@jupyter-widgets/base",
          "model_name": "LayoutModel",
          "model_module_version": "1.2.0",
          "state": {
            "_model_module": "@jupyter-widgets/base",
            "_model_module_version": "1.2.0",
            "_model_name": "LayoutModel",
            "_view_count": null,
            "_view_module": "@jupyter-widgets/base",
            "_view_module_version": "1.2.0",
            "_view_name": "LayoutView",
            "align_content": null,
            "align_items": null,
            "align_self": null,
            "border": null,
            "bottom": null,
            "display": null,
            "flex": null,
            "flex_flow": null,
            "grid_area": null,
            "grid_auto_columns": null,
            "grid_auto_flow": null,
            "grid_auto_rows": null,
            "grid_column": null,
            "grid_gap": null,
            "grid_row": null,
            "grid_template_areas": null,
            "grid_template_columns": null,
            "grid_template_rows": null,
            "height": null,
            "justify_content": null,
            "justify_items": null,
            "left": null,
            "margin": null,
            "max_height": null,
            "max_width": null,
            "min_height": null,
            "min_width": null,
            "object_fit": null,
            "object_position": null,
            "order": null,
            "overflow": null,
            "overflow_x": null,
            "overflow_y": null,
            "padding": null,
            "right": null,
            "top": null,
            "visibility": null,
            "width": null
          }
        },
        "0c445ed7c30d4b4d838e18376898ad4a": {
          "model_module": "@jupyter-widgets/base",
          "model_name": "LayoutModel",
          "model_module_version": "1.2.0",
          "state": {
            "_model_module": "@jupyter-widgets/base",
            "_model_module_version": "1.2.0",
            "_model_name": "LayoutModel",
            "_view_count": null,
            "_view_module": "@jupyter-widgets/base",
            "_view_module_version": "1.2.0",
            "_view_name": "LayoutView",
            "align_content": null,
            "align_items": null,
            "align_self": null,
            "border": null,
            "bottom": null,
            "display": null,
            "flex": null,
            "flex_flow": null,
            "grid_area": null,
            "grid_auto_columns": null,
            "grid_auto_flow": null,
            "grid_auto_rows": null,
            "grid_column": null,
            "grid_gap": null,
            "grid_row": null,
            "grid_template_areas": null,
            "grid_template_columns": null,
            "grid_template_rows": null,
            "height": null,
            "justify_content": null,
            "justify_items": null,
            "left": null,
            "margin": null,
            "max_height": null,
            "max_width": null,
            "min_height": null,
            "min_width": null,
            "object_fit": null,
            "object_position": null,
            "order": null,
            "overflow": null,
            "overflow_x": null,
            "overflow_y": null,
            "padding": null,
            "right": null,
            "top": null,
            "visibility": null,
            "width": null
          }
        },
        "119b6ea8e9194e5c8aa7cb69829adb84": {
          "model_module": "@jupyter-widgets/controls",
          "model_name": "DescriptionStyleModel",
          "model_module_version": "1.5.0",
          "state": {
            "_model_module": "@jupyter-widgets/controls",
            "_model_module_version": "1.5.0",
            "_model_name": "DescriptionStyleModel",
            "_view_count": null,
            "_view_module": "@jupyter-widgets/base",
            "_view_module_version": "1.2.0",
            "_view_name": "StyleView",
            "description_width": ""
          }
        },
        "18ea1ffb41d545fea741fdaf944d5887": {
          "model_module": "@jupyter-widgets/base",
          "model_name": "LayoutModel",
          "model_module_version": "1.2.0",
          "state": {
            "_model_module": "@jupyter-widgets/base",
            "_model_module_version": "1.2.0",
            "_model_name": "LayoutModel",
            "_view_count": null,
            "_view_module": "@jupyter-widgets/base",
            "_view_module_version": "1.2.0",
            "_view_name": "LayoutView",
            "align_content": null,
            "align_items": null,
            "align_self": null,
            "border": null,
            "bottom": null,
            "display": null,
            "flex": null,
            "flex_flow": null,
            "grid_area": null,
            "grid_auto_columns": null,
            "grid_auto_flow": null,
            "grid_auto_rows": null,
            "grid_column": null,
            "grid_gap": null,
            "grid_row": null,
            "grid_template_areas": null,
            "grid_template_columns": null,
            "grid_template_rows": null,
            "height": null,
            "justify_content": null,
            "justify_items": null,
            "left": null,
            "margin": null,
            "max_height": null,
            "max_width": null,
            "min_height": null,
            "min_width": null,
            "object_fit": null,
            "object_position": null,
            "order": null,
            "overflow": null,
            "overflow_x": null,
            "overflow_y": null,
            "padding": null,
            "right": null,
            "top": null,
            "visibility": null,
            "width": null
          }
        },
        "dc64c558ec784211934e12783254eafd": {
          "model_module": "@jupyter-widgets/controls",
          "model_name": "ProgressStyleModel",
          "model_module_version": "1.5.0",
          "state": {
            "_model_module": "@jupyter-widgets/controls",
            "_model_module_version": "1.5.0",
            "_model_name": "ProgressStyleModel",
            "_view_count": null,
            "_view_module": "@jupyter-widgets/base",
            "_view_module_version": "1.2.0",
            "_view_name": "StyleView",
            "bar_color": null,
            "description_width": ""
          }
        },
        "dd72f992ffe34b34a9a30db4e552b5d3": {
          "model_module": "@jupyter-widgets/base",
          "model_name": "LayoutModel",
          "model_module_version": "1.2.0",
          "state": {
            "_model_module": "@jupyter-widgets/base",
            "_model_module_version": "1.2.0",
            "_model_name": "LayoutModel",
            "_view_count": null,
            "_view_module": "@jupyter-widgets/base",
            "_view_module_version": "1.2.0",
            "_view_name": "LayoutView",
            "align_content": null,
            "align_items": null,
            "align_self": null,
            "border": null,
            "bottom": null,
            "display": null,
            "flex": null,
            "flex_flow": null,
            "grid_area": null,
            "grid_auto_columns": null,
            "grid_auto_flow": null,
            "grid_auto_rows": null,
            "grid_column": null,
            "grid_gap": null,
            "grid_row": null,
            "grid_template_areas": null,
            "grid_template_columns": null,
            "grid_template_rows": null,
            "height": null,
            "justify_content": null,
            "justify_items": null,
            "left": null,
            "margin": null,
            "max_height": null,
            "max_width": null,
            "min_height": null,
            "min_width": null,
            "object_fit": null,
            "object_position": null,
            "order": null,
            "overflow": null,
            "overflow_x": null,
            "overflow_y": null,
            "padding": null,
            "right": null,
            "top": null,
            "visibility": null,
            "width": null
          }
        },
        "97707622ea404402926ab8eee770ce65": {
          "model_module": "@jupyter-widgets/controls",
          "model_name": "DescriptionStyleModel",
          "model_module_version": "1.5.0",
          "state": {
            "_model_module": "@jupyter-widgets/controls",
            "_model_module_version": "1.5.0",
            "_model_name": "DescriptionStyleModel",
            "_view_count": null,
            "_view_module": "@jupyter-widgets/base",
            "_view_module_version": "1.2.0",
            "_view_name": "StyleView",
            "description_width": ""
          }
        }
      }
    }
  },
  "cells": [
    {
      "cell_type": "markdown",
      "metadata": {
        "id": "view-in-github",
        "colab_type": "text"
      },
      "source": [
        "<a href=\"https://colab.research.google.com/github/dtim-upc/LOKI/blob/main/Initial-All-Pairs/Baseline_Bi_Encoder.ipynb\" target=\"_parent\"><img src=\"https://colab.research.google.com/assets/colab-badge.svg\" alt=\"Open In Colab\"/></a>"
      ]
    },
    {
      "cell_type": "code",
      "source": [
        "!pip install xformers"
      ],
      "metadata": {
        "colab": {
          "base_uri": "https://localhost:8080/"
        },
        "id": "kEPVzDP0hV7r",
        "outputId": "eb1f720b-da9f-457b-e739-3b2faa2fc61d"
      },
      "execution_count": null,
      "outputs": [
        {
          "output_type": "stream",
          "name": "stdout",
          "text": [
            "Requirement already satisfied: xformers in /usr/local/lib/python3.10/dist-packages (0.0.28.post3)\n",
            "Requirement already satisfied: numpy in /usr/local/lib/python3.10/dist-packages (from xformers) (1.26.4)\n",
            "Requirement already satisfied: torch==2.5.1 in /usr/local/lib/python3.10/dist-packages (from xformers) (2.5.1+cu121)\n",
            "Requirement already satisfied: filelock in /usr/local/lib/python3.10/dist-packages (from torch==2.5.1->xformers) (3.16.1)\n",
            "Requirement already satisfied: typing-extensions>=4.8.0 in /usr/local/lib/python3.10/dist-packages (from torch==2.5.1->xformers) (4.12.2)\n",
            "Requirement already satisfied: networkx in /usr/local/lib/python3.10/dist-packages (from torch==2.5.1->xformers) (3.4.2)\n",
            "Requirement already satisfied: jinja2 in /usr/local/lib/python3.10/dist-packages (from torch==2.5.1->xformers) (3.1.4)\n",
            "Requirement already satisfied: fsspec in /usr/local/lib/python3.10/dist-packages (from torch==2.5.1->xformers) (2024.10.0)\n",
            "Requirement already satisfied: sympy==1.13.1 in /usr/local/lib/python3.10/dist-packages (from torch==2.5.1->xformers) (1.13.1)\n",
            "Requirement already satisfied: mpmath<1.4,>=1.1.0 in /usr/local/lib/python3.10/dist-packages (from sympy==1.13.1->torch==2.5.1->xformers) (1.3.0)\n",
            "Requirement already satisfied: MarkupSafe>=2.0 in /usr/local/lib/python3.10/dist-packages (from jinja2->torch==2.5.1->xformers) (3.0.2)\n"
          ]
        }
      ]
    },
    {
      "cell_type": "code",
      "execution_count": null,
      "metadata": {
        "id": "738mnOI1e-TK"
      },
      "outputs": [],
      "source": [
        "import os\n",
        "import json\n",
        "import numpy as np\n",
        "from sentence_transformers import SentenceTransformer, util\n",
        "from accelerate import Accelerator\n",
        "from sklearn.metrics.pairwise import cosine_similarity\n",
        "import torch\n",
        "from tqdm.notebook import tqdm"
      ]
    },
    {
      "cell_type": "code",
      "source": [
        "# Define folder paths for input and output\n",
        "data_folder = \"/content/input_data\"\n",
        "output_folder = \"/content/output_data\""
      ],
      "metadata": {
        "id": "xzOdpCdfgHvn"
      },
      "execution_count": null,
      "outputs": []
    },
    {
      "cell_type": "code",
      "source": [
        "# Make output directory if it does not exist\n",
        "os.makedirs(output_folder, exist_ok=True)"
      ],
      "metadata": {
        "id": "PLZ72GzrgLPo"
      },
      "execution_count": null,
      "outputs": []
    },
    {
      "cell_type": "code",
      "source": [
        "# Initialize Accelerator for faster computation\n",
        "accelerator = Accelerator()"
      ],
      "metadata": {
        "id": "lhyUXsmDgNg-"
      },
      "execution_count": null,
      "outputs": []
    },
    {
      "cell_type": "code",
      "source": [
        "# Load bi-encoder model\n",
        "bi_encoder = SentenceTransformer(\"dunzhang/stella_en_400M_v5\", trust_remote_code=True, device='cuda' if torch.cuda.is_available() else 'cpu')\n",
        "bi_encoder.use_xformers = True  # Enable xformers for better memory management\n",
        "bi_encoder = accelerator.prepare(bi_encoder)"
      ],
      "metadata": {
        "colab": {
          "base_uri": "https://localhost:8080/"
        },
        "id": "E99v5xubgPJg",
        "outputId": "a38d654d-1b9a-4c68-8b90-babc37cb419d"
      },
      "execution_count": null,
      "outputs": [
        {
          "output_type": "stream",
          "name": "stderr",
          "text": [
            "Some weights of the model checkpoint at dunzhang/stella_en_400M_v5 were not used when initializing NewModel: ['new.pooler.dense.bias', 'new.pooler.dense.weight']\n",
            "- This IS expected if you are initializing NewModel from the checkpoint of a model trained on another task or with another architecture (e.g. initializing a BertForSequenceClassification model from a BertForPreTraining model).\n",
            "- This IS NOT expected if you are initializing NewModel from the checkpoint of a model that you expect to be exactly identical (initializing a BertForSequenceClassification model from a BertForSequenceClassification model).\n"
          ]
        }
      ]
    },
    {
      "cell_type": "code",
      "source": [
        "def load_data(file_path, num_samples=None):\n",
        "    \"\"\"Load data from a single json file.\"\"\"\n",
        "    with open(file_path, 'r', encoding='utf-8') as f:\n",
        "        data = json.load(f)\n",
        "    if num_samples is not None:\n",
        "        return data[:num_samples]\n",
        "    return data"
      ],
      "metadata": {
        "id": "KE3YkxdYgPxk"
      },
      "execution_count": null,
      "outputs": []
    },
    {
      "cell_type": "code",
      "source": [
        "# Function to create row representation for table\n",
        "\n",
        "def create_row_representation(row, headers, title=None, caption=None):\n",
        "    \"\"\"Create a string representation for each row by combining headers and their corresponding cell values.\"\"\"\n",
        "    # Ensure the row and headers have the same length\n",
        "    if len(row) != len(headers):\n",
        "        row = row[:len(headers)] if len(row) > len(headers) else row + [''] * (len(headers) - len(row))\n",
        "    row_representation = ' '.join([f\"{headers[i]}: {cell}\" for i, cell in enumerate(row)])\n",
        "    if title:\n",
        "        row_representation = f\"Title: {title} \" + row_representation\n",
        "    if caption:\n",
        "        row_representation = row_representation + f\" Caption: {caption}\"\n",
        "    return row_representation"
      ],
      "metadata": {
        "id": "C0Eqmv0IgUae"
      },
      "execution_count": null,
      "outputs": []
    },
    {
      "cell_type": "code",
      "source": [
        "# Function to prepare dataset\n",
        "\n",
        "def prepare_dataset(data):\n",
        "    \"\"\"Prepare row-sentence pairs from the dataset, including table title and caption, considering all possible table-paragraph combinations.\"\"\"\n",
        "    dataset = []\n",
        "    failed_examples = []\n",
        "\n",
        "    for table_example_idx, table_example in enumerate(data):\n",
        "        table = table_example['table']\n",
        "        headers = table[0]\n",
        "        rows = table[1:]\n",
        "        title = table_example.get('title', None)\n",
        "        caption = table_example.get('caption', None)\n",
        "\n",
        "        # Add title and caption once per table\n",
        "        table_representation = \"\"\n",
        "        if title:\n",
        "            table_representation += f\"Title: {title} \"\n",
        "        if caption:\n",
        "            table_representation += f\"Caption: {caption} \"\n",
        "\n",
        "        if any(header == '' for header in headers):\n",
        "            failed_examples.append(headers)\n",
        "            print(f\"Warning: Empty header in example with headers: {headers}\")\n",
        "\n",
        "        for paragraph_example_idx, paragraph_example in enumerate(data):\n",
        "            paragraph = paragraph_example['sentence_context']\n",
        "            for row in rows:\n",
        "                row_text = table_representation + create_row_representation(row, headers)\n",
        "                for sentence in paragraph:\n",
        "                    dataset.append((row_text, sentence))  # Pair rows with sentences from all examples\n",
        "\n",
        "    if failed_examples:\n",
        "        print(f\"Total examples with empty headers: {len(failed_examples)}\")\n",
        "    return dataset"
      ],
      "metadata": {
        "id": "O9HhFHulgWaP"
      },
      "execution_count": null,
      "outputs": []
    },
    {
      "cell_type": "code",
      "source": [
        "# Scoring function using bi-encoder\n",
        "\n",
        "def compute_similarity_bi_encoder(row_sentence_pairs):\n",
        "    \"\"\"Compute similarity scores using the bi-encoder model.\"\"\"\n",
        "    # Embed rows and sentences separately\n",
        "    rows, sentences = zip(*row_sentence_pairs)\n",
        "    with accelerator.autocast():\n",
        "        row_embeddings = bi_encoder.encode(rows, convert_to_tensor=True, device='cuda' if torch.cuda.is_available() else 'cpu')\n",
        "        sentence_embeddings = bi_encoder.encode(sentences, convert_to_tensor=True, device='cuda' if torch.cuda.is_available() else 'cpu')\n",
        "\n",
        "    # Compute cosine similarity between rows and sentences\n",
        "    scores = util.pytorch_cos_sim(row_embeddings, sentence_embeddings).diagonal().tolist()\n",
        "    return scores"
      ],
      "metadata": {
        "id": "tDNioOcSgYcV"
      },
      "execution_count": null,
      "outputs": []
    },
    {
      "cell_type": "code",
      "source": [
        "# Function to generate labeled dataset\n",
        "\n",
        "def generate_labeled_dataset(data):\n",
        "    \"\"\"Generate a labeled dataset with aggregated similarity scores for all table-paragraph pairs.\"\"\"\n",
        "    row_sentence_pairs = prepare_dataset(data)\n",
        "    similarity_scores = compute_similarity_bi_encoder(row_sentence_pairs)\n",
        "\n",
        "    # Group scores by table-paragraph pairs\n",
        "    labeled_data = []\n",
        "    index = 0\n",
        "    progress_bar = tqdm(total=len(data), desc=\"Processing tables\")\n",
        "\n",
        "    for table_example_idx, table_example in enumerate(data):\n",
        "        table = table_example['table']\n",
        "        num_rows = len(table[1:])  # Number of rows excluding headers\n",
        "\n",
        "        for paragraph_example_idx, paragraph_example in enumerate(data):\n",
        "            paragraph = paragraph_example['sentence_context']\n",
        "            num_sentences = len(paragraph)\n",
        "\n",
        "            # Collect all scores for the current table-paragraph pair\n",
        "            scores = []\n",
        "            for row_idx in range(num_rows):\n",
        "                for sentence_idx in range(num_sentences):\n",
        "                    scores.append(similarity_scores[index])\n",
        "                    index += 1\n",
        "\n",
        "            # Aggregate the scores for the current table-paragraph pair\n",
        "            avg_score = sum(scores) / len(scores) if scores else 0\n",
        "            labeled_data.append({\n",
        "                \"id\": table_example.get('id', None),  # Include original ID\n",
        "                \"title\": table_example.get('title', None),  # Include title\n",
        "                \"caption\": table_example.get('caption', None),  # Include caption\n",
        "                \"table\": table,  # Include full table\n",
        "                \"paragraph\": paragraph,  # Include full paragraph\n",
        "                \"score\": round(avg_score, 3)  # keep score between [0, 1] rounded to 3 decimals\n",
        "            })\n",
        "        progress_bar.update(1)\n",
        "\n",
        "    progress_bar.close()\n",
        "    return labeled_data"
      ],
      "metadata": {
        "id": "CdQXcnyTgbMs"
      },
      "execution_count": null,
      "outputs": []
    },
    {
      "cell_type": "code",
      "source": [
        "# Function to save labeled dataset\n",
        "\n",
        "def save_labeled_dataset(labeled_data, output_path):\n",
        "    \"\"\"Save the labeled dataset to a json file.\"\"\"\n",
        "    with open(output_path, 'w', encoding='utf-8') as f:\n",
        "        json.dump(labeled_data, f, indent=4, ensure_ascii=False)"
      ],
      "metadata": {
        "id": "1RK38PiDgdaR"
      },
      "execution_count": null,
      "outputs": []
    },
    {
      "cell_type": "code",
      "source": [
        "# Run the main pipeline in a notebook\n",
        "if __name__ == \"__main__\":\n",
        "    accelerator.wait_for_everyone()\n",
        "    # Load data from input folder\n",
        "    data_file_path = os.path.join(data_folder, 'data.json')\n",
        "    data = load_data(data_file_path, num_samples=3)\n",
        "\n",
        "    # Generate labeled dataset\n",
        "    labeled_data = generate_labeled_dataset(data)\n",
        "    # Verify that all table-paragraph pairs are included in the labeled data\n",
        "    expected_pairs = len(data) * len(data)\n",
        "    if len(labeled_data) != expected_pairs:\n",
        "        print(f\"Warning: Mismatch in number of labeled entries ({len(labeled_data)}) and expected table-paragraph pairs ({expected_pairs})\")\n",
        "\n",
        "    # Save output dataset\n",
        "    output_path = os.path.join(output_folder, 'labeled_dataset.json')\n",
        "    save_labeled_dataset(labeled_data, output_path)\n",
        "    print(f\"Labeled dataset saved to {output_path}\")"
      ],
      "metadata": {
        "colab": {
          "base_uri": "https://localhost:8080/",
          "height": 66,
          "referenced_widgets": [
            "58e2ff5fa9e747799ca97c56da65c3de",
            "1ad4bfa5133c4736a5d9f517e1c38377",
            "a0c1b52cd14d4dc88768d3cca04cb0fa",
            "9935a09466084fd1bddbe30f4d0a8806",
            "33abb45af7d74c79928ec038a44d6f76",
            "0c445ed7c30d4b4d838e18376898ad4a",
            "119b6ea8e9194e5c8aa7cb69829adb84",
            "18ea1ffb41d545fea741fdaf944d5887",
            "dc64c558ec784211934e12783254eafd",
            "dd72f992ffe34b34a9a30db4e552b5d3",
            "97707622ea404402926ab8eee770ce65"
          ]
        },
        "id": "vDfeH5Ipgfpl",
        "outputId": "baf00cad-8d3a-4d36-c5ef-739f8248bf09"
      },
      "execution_count": null,
      "outputs": [
        {
          "output_type": "display_data",
          "data": {
            "text/plain": [
              "Processing tables:   0%|          | 0/3 [00:00<?, ?it/s]"
            ],
            "application/vnd.jupyter.widget-view+json": {
              "version_major": 2,
              "version_minor": 0,
              "model_id": "58e2ff5fa9e747799ca97c56da65c3de"
            }
          },
          "metadata": {}
        },
        {
          "output_type": "stream",
          "name": "stdout",
          "text": [
            "Labeled dataset saved to /content/output_data/labeled_dataset.json\n"
          ]
        }
      ]
    }
  ]
}